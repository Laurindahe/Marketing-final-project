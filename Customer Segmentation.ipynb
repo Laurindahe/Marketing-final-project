{
 "cells": [
  {
   "cell_type": "code",
   "execution_count": 1,
   "metadata": {},
   "outputs": [],
   "source": [
    "import pandas as pd\n",
    "from datetime import datetime as dt\n",
    "import matplotlib.pyplot as plt\n",
    "from sklearn.cluster import KMeans\n",
    "from sklearn.model_selection import train_test_split\n",
    "from sklearn import preprocessing\n",
    "from sklearn import mixture"
   ]
  },
  {
   "cell_type": "code",
   "execution_count": 2,
   "metadata": {},
   "outputs": [],
   "source": [
    "df = pd.read_csv('subscribers_new.csv')"
   ]
  },
  {
   "cell_type": "code",
   "execution_count": 3,
   "metadata": {},
   "outputs": [
    {
     "data": {
      "text/html": [
       "<div>\n",
       "<style scoped>\n",
       "    .dataframe tbody tr th:only-of-type {\n",
       "        vertical-align: middle;\n",
       "    }\n",
       "\n",
       "    .dataframe tbody tr th {\n",
       "        vertical-align: top;\n",
       "    }\n",
       "\n",
       "    .dataframe thead th {\n",
       "        text-align: right;\n",
       "    }\n",
       "</style>\n",
       "<table border=\"1\" class=\"dataframe\">\n",
       "  <thead>\n",
       "    <tr style=\"text-align: right;\">\n",
       "      <th></th>\n",
       "      <th>Unnamed: 0</th>\n",
       "      <th>subid</th>\n",
       "      <th>package_type</th>\n",
       "      <th>num_weekly_services_utilized</th>\n",
       "      <th>preferred_genre</th>\n",
       "      <th>intended_use</th>\n",
       "      <th>weekly_consumption_hour</th>\n",
       "      <th>num_ideal_streaming_services</th>\n",
       "      <th>age</th>\n",
       "      <th>male_TF</th>\n",
       "      <th>...</th>\n",
       "      <th>join_fee</th>\n",
       "      <th>language</th>\n",
       "      <th>payment_type</th>\n",
       "      <th>num_trial_days</th>\n",
       "      <th>current_sub_TF</th>\n",
       "      <th>payment_period</th>\n",
       "      <th>last_payment</th>\n",
       "      <th>next_payment</th>\n",
       "      <th>cancel_date</th>\n",
       "      <th>trial_completed</th>\n",
       "    </tr>\n",
       "  </thead>\n",
       "  <tbody>\n",
       "    <tr>\n",
       "      <th>0</th>\n",
       "      <td>162502</td>\n",
       "      <td>21724479</td>\n",
       "      <td>economy</td>\n",
       "      <td>NaN</td>\n",
       "      <td>comedy</td>\n",
       "      <td>access to exclusive content</td>\n",
       "      <td>NaN</td>\n",
       "      <td>NaN</td>\n",
       "      <td>NaN</td>\n",
       "      <td>False</td>\n",
       "      <td>...</td>\n",
       "      <td>NaN</td>\n",
       "      <td>ar</td>\n",
       "      <td>Standard Charter</td>\n",
       "      <td>14</td>\n",
       "      <td>True</td>\n",
       "      <td>1</td>\n",
       "      <td>2020-02-07 21:44:16</td>\n",
       "      <td>2020-06-07 21:44:16</td>\n",
       "      <td>NaN</td>\n",
       "      <td>True</td>\n",
       "    </tr>\n",
       "    <tr>\n",
       "      <th>1</th>\n",
       "      <td>380374</td>\n",
       "      <td>23383224</td>\n",
       "      <td>base</td>\n",
       "      <td>NaN</td>\n",
       "      <td>comedy</td>\n",
       "      <td>access to exclusive content</td>\n",
       "      <td>22.951579</td>\n",
       "      <td>NaN</td>\n",
       "      <td>70.0</td>\n",
       "      <td>False</td>\n",
       "      <td>...</td>\n",
       "      <td>0.3303</td>\n",
       "      <td>ar</td>\n",
       "      <td>NaN</td>\n",
       "      <td>14</td>\n",
       "      <td>True</td>\n",
       "      <td>1</td>\n",
       "      <td>2020-03-15 15:44:35</td>\n",
       "      <td>2020-07-15 15:44:35</td>\n",
       "      <td>NaN</td>\n",
       "      <td>True</td>\n",
       "    </tr>\n",
       "    <tr>\n",
       "      <th>2</th>\n",
       "      <td>496617</td>\n",
       "      <td>26844789</td>\n",
       "      <td>enhanced</td>\n",
       "      <td>3.0</td>\n",
       "      <td>regional</td>\n",
       "      <td>replace OTT</td>\n",
       "      <td>36.001186</td>\n",
       "      <td>2.0</td>\n",
       "      <td>25.0</td>\n",
       "      <td>True</td>\n",
       "      <td>...</td>\n",
       "      <td>0.1101</td>\n",
       "      <td>ar</td>\n",
       "      <td>NaN</td>\n",
       "      <td>14</td>\n",
       "      <td>False</td>\n",
       "      <td>0</td>\n",
       "      <td>NaN</td>\n",
       "      <td>NaN</td>\n",
       "      <td>NaN</td>\n",
       "      <td>True</td>\n",
       "    </tr>\n",
       "    <tr>\n",
       "      <th>3</th>\n",
       "      <td>356799</td>\n",
       "      <td>29417030</td>\n",
       "      <td>base</td>\n",
       "      <td>NaN</td>\n",
       "      <td>drama</td>\n",
       "      <td>replace OTT</td>\n",
       "      <td>20.051667</td>\n",
       "      <td>NaN</td>\n",
       "      <td>30.0</td>\n",
       "      <td>False</td>\n",
       "      <td>...</td>\n",
       "      <td>0.0367</td>\n",
       "      <td>ar</td>\n",
       "      <td>NaN</td>\n",
       "      <td>14</td>\n",
       "      <td>False</td>\n",
       "      <td>0</td>\n",
       "      <td>NaN</td>\n",
       "      <td>NaN</td>\n",
       "      <td>NaN</td>\n",
       "      <td>True</td>\n",
       "    </tr>\n",
       "    <tr>\n",
       "      <th>4</th>\n",
       "      <td>681701</td>\n",
       "      <td>26723159</td>\n",
       "      <td>base</td>\n",
       "      <td>4.0</td>\n",
       "      <td>comedy</td>\n",
       "      <td>replace OTT</td>\n",
       "      <td>22.951579</td>\n",
       "      <td>3.0</td>\n",
       "      <td>28.0</td>\n",
       "      <td>False</td>\n",
       "      <td>...</td>\n",
       "      <td>0.0367</td>\n",
       "      <td>ar</td>\n",
       "      <td>NaN</td>\n",
       "      <td>14</td>\n",
       "      <td>True</td>\n",
       "      <td>2</td>\n",
       "      <td>2020-02-19 12:57:07</td>\n",
       "      <td>2020-06-19 12:57:07</td>\n",
       "      <td>NaN</td>\n",
       "      <td>True</td>\n",
       "    </tr>\n",
       "  </tbody>\n",
       "</table>\n",
       "<p>5 rows × 31 columns</p>\n",
       "</div>"
      ],
      "text/plain": [
       "   Unnamed: 0     subid package_type  num_weekly_services_utilized  \\\n",
       "0      162502  21724479      economy                           NaN   \n",
       "1      380374  23383224         base                           NaN   \n",
       "2      496617  26844789     enhanced                           3.0   \n",
       "3      356799  29417030         base                           NaN   \n",
       "4      681701  26723159         base                           4.0   \n",
       "\n",
       "  preferred_genre                 intended_use  weekly_consumption_hour  \\\n",
       "0          comedy  access to exclusive content                      NaN   \n",
       "1          comedy  access to exclusive content                22.951579   \n",
       "2        regional                  replace OTT                36.001186   \n",
       "3           drama                  replace OTT                20.051667   \n",
       "4          comedy                  replace OTT                22.951579   \n",
       "\n",
       "   num_ideal_streaming_services   age male_TF  ... join_fee language  \\\n",
       "0                           NaN   NaN   False  ...      NaN       ar   \n",
       "1                           NaN  70.0   False  ...   0.3303       ar   \n",
       "2                           2.0  25.0    True  ...   0.1101       ar   \n",
       "3                           NaN  30.0   False  ...   0.0367       ar   \n",
       "4                           3.0  28.0   False  ...   0.0367       ar   \n",
       "\n",
       "       payment_type num_trial_days  current_sub_TF payment_period  \\\n",
       "0  Standard Charter             14            True              1   \n",
       "1               NaN             14            True              1   \n",
       "2               NaN             14           False              0   \n",
       "3               NaN             14           False              0   \n",
       "4               NaN             14            True              2   \n",
       "\n",
       "          last_payment         next_payment cancel_date trial_completed  \n",
       "0  2020-02-07 21:44:16  2020-06-07 21:44:16         NaN            True  \n",
       "1  2020-03-15 15:44:35  2020-07-15 15:44:35         NaN            True  \n",
       "2                  NaN                  NaN         NaN            True  \n",
       "3                  NaN                  NaN         NaN            True  \n",
       "4  2020-02-19 12:57:07  2020-06-19 12:57:07         NaN            True  \n",
       "\n",
       "[5 rows x 31 columns]"
      ]
     },
     "execution_count": 3,
     "metadata": {},
     "output_type": "execute_result"
    }
   ],
   "source": [
    "df.head()"
   ]
  },
  {
   "cell_type": "code",
   "execution_count": 4,
   "metadata": {},
   "outputs": [],
   "source": [
    "data = df.drop(columns = ['Unnamed: 0','language','country','months_per_bill_period',\\\n",
    "                            'language','last_payment','trial_end_date','monthly_price'])"
   ]
  },
  {
   "cell_type": "code",
   "execution_count": 250,
   "metadata": {},
   "outputs": [],
   "source": [
    "#data = data[data['current_sub_TF'] == True]\n",
    "#data['cancel_date'] = data['cancel_date'].fillna(0)\n",
    "#data = data[data['cancel_date'] == 0]"
   ]
  },
  {
   "cell_type": "code",
   "execution_count": 251,
   "metadata": {
    "scrolled": true
   },
   "outputs": [
    {
     "name": "stdout",
     "output_type": "stream",
     "text": [
      "<class 'pandas.core.frame.DataFrame'>\n",
      "RangeIndex: 227628 entries, 0 to 227627\n",
      "Data columns (total 23 columns):\n",
      " #   Column                        Non-Null Count   Dtype  \n",
      "---  ------                        --------------   -----  \n",
      " 0   package_type                  192054 non-null  object \n",
      " 1   num_weekly_services_utilized  117178 non-null  float64\n",
      " 2   preferred_genre               191302 non-null  object \n",
      " 3   intended_use                  224079 non-null  object \n",
      " 4   weekly_consumption_hour       189698 non-null  float64\n",
      " 5   num_ideal_streaming_services  115458 non-null  float64\n",
      " 6   age                           192459 non-null  float64\n",
      " 7   male_TF                       227359 non-null  object \n",
      " 8   attribution_technical         227628 non-null  object \n",
      " 9   attribution_survey            224984 non-null  object \n",
      " 10  op_sys                        214253 non-null  object \n",
      " 11  plan_type                     227628 non-null  object \n",
      " 12  discount_price                227628 non-null  float64\n",
      " 13  account_creation_date         227628 non-null  object \n",
      " 14  initial_credit_card_declined  227628 non-null  bool   \n",
      " 15  join_fee                      192724 non-null  float64\n",
      " 16  payment_type                  92050 non-null   object \n",
      " 17  num_trial_days                227628 non-null  int64  \n",
      " 18  current_sub_TF                227628 non-null  bool   \n",
      " 19  payment_period                227628 non-null  int64  \n",
      " 20  next_payment                  130250 non-null  object \n",
      " 21  cancel_date                   36831 non-null   object \n",
      " 22  trial_completed               227628 non-null  bool   \n",
      "dtypes: bool(3), float64(6), int64(2), object(12)\n",
      "memory usage: 35.4+ MB\n"
     ]
    }
   ],
   "source": [
    "data.info()"
   ]
  },
  {
   "cell_type": "code",
   "execution_count": 5,
   "metadata": {},
   "outputs": [],
   "source": [
    "data4 = data[(data['weekly_consumption_hour']>0)&(data['join_fee']>0)]"
   ]
  },
  {
   "cell_type": "code",
   "execution_count": 6,
   "metadata": {},
   "outputs": [
    {
     "name": "stdout",
     "output_type": "stream",
     "text": [
      "<class 'pandas.core.frame.DataFrame'>\n",
      "Int64Index: 156919 entries, 1 to 227627\n",
      "Data columns (total 24 columns):\n",
      " #   Column                        Non-Null Count   Dtype  \n",
      "---  ------                        --------------   -----  \n",
      " 0   subid                         156919 non-null  int64  \n",
      " 1   package_type                  130340 non-null  object \n",
      " 2   num_weekly_services_utilized  93599 non-null   float64\n",
      " 3   preferred_genre               129611 non-null  object \n",
      " 4   intended_use                  155247 non-null  object \n",
      " 5   weekly_consumption_hour       156919 non-null  float64\n",
      " 6   num_ideal_streaming_services  93311 non-null   float64\n",
      " 7   age                           156919 non-null  float64\n",
      " 8   male_TF                       156919 non-null  object \n",
      " 9   attribution_technical         156919 non-null  object \n",
      " 10  attribution_survey            156162 non-null  object \n",
      " 11  op_sys                        147174 non-null  object \n",
      " 12  plan_type                     156919 non-null  object \n",
      " 13  discount_price                156919 non-null  float64\n",
      " 14  account_creation_date         156919 non-null  object \n",
      " 15  initial_credit_card_declined  156919 non-null  bool   \n",
      " 16  join_fee                      156919 non-null  float64\n",
      " 17  payment_type                  45388 non-null   object \n",
      " 18  num_trial_days                156919 non-null  int64  \n",
      " 19  current_sub_TF                156919 non-null  bool   \n",
      " 20  payment_period                156919 non-null  int64  \n",
      " 21  next_payment                  87382 non-null   object \n",
      " 22  cancel_date                   26134 non-null   object \n",
      " 23  trial_completed               156919 non-null  bool   \n",
      "dtypes: bool(3), float64(6), int64(3), object(12)\n",
      "memory usage: 26.8+ MB\n"
     ]
    }
   ],
   "source": [
    "data4.info()"
   ]
  },
  {
   "cell_type": "code",
   "execution_count": 7,
   "metadata": {},
   "outputs": [
    {
     "name": "stderr",
     "output_type": "stream",
     "text": [
      "<ipython-input-7-0e851a6a1656>:1: SettingWithCopyWarning: \n",
      "A value is trying to be set on a copy of a slice from a DataFrame.\n",
      "Try using .loc[row_indexer,col_indexer] = value instead\n",
      "\n",
      "See the caveats in the documentation: https://pandas.pydata.org/pandas-docs/stable/user_guide/indexing.html#returning-a-view-versus-a-copy\n",
      "  data4['age_corrected'] = 0\n"
     ]
    }
   ],
   "source": [
    "data4['age_corrected'] = 0\n",
    "for i in range(len(data4['age'])):\n",
    "    a = data4['age'].values[i]\n",
    "    if a > 1900 and a < 2020:\n",
    "        data4['age_corrected'].values[i] = 2020-a\n",
    "    else:\n",
    "        data4['age_corrected'].values[i] = a"
   ]
  },
  {
   "cell_type": "code",
   "execution_count": 8,
   "metadata": {},
   "outputs": [],
   "source": [
    "data4 = data4[data4['age_corrected'] < 110]"
   ]
  },
  {
   "cell_type": "code",
   "execution_count": 9,
   "metadata": {},
   "outputs": [
    {
     "data": {
      "text/plain": [
       "46.078539406809384"
      ]
     },
     "execution_count": 9,
     "metadata": {},
     "output_type": "execute_result"
    }
   ],
   "source": [
    "data4['age_corrected'].values.mean()"
   ]
  },
  {
   "cell_type": "code",
   "execution_count": 10,
   "metadata": {},
   "outputs": [],
   "source": [
    "data4 = data4.drop(columns = 'age')"
   ]
  },
  {
   "cell_type": "code",
   "execution_count": 11,
   "metadata": {},
   "outputs": [],
   "source": [
    "c = float(data4['num_weekly_services_utilized'].dropna().mode().values)\n",
    "d = float(data4['num_ideal_streaming_services'].dropna().mode().values)\n",
    "data4['num_weekly_services_utilized'] = data4['num_weekly_services_utilized'].fillna(c)\n",
    "data4['num_ideal_streaming_services'] = data4['num_ideal_streaming_services'].fillna(d)"
   ]
  },
  {
   "cell_type": "code",
   "execution_count": 12,
   "metadata": {},
   "outputs": [],
   "source": [
    "data4['active days'] = ''\n",
    "data4['cancel_date'] = data4['cancel_date'].fillna(0)\n",
    "data4['next_payment'] = data4['next_payment'].fillna(0)"
   ]
  },
  {
   "cell_type": "code",
   "execution_count": 13,
   "metadata": {},
   "outputs": [],
   "source": [
    "data4['account_creation_date']= pd.to_datetime(data4['account_creation_date'], format='%Y/%m/%d %H:%M')"
   ]
  },
  {
   "cell_type": "code",
   "execution_count": 14,
   "metadata": {},
   "outputs": [],
   "source": [
    "for i in range(len(data4['account_creation_date'])):\n",
    "    if data4['cancel_date'].values[i] == 0:\n",
    "        pass\n",
    "    else:\n",
    "        data4['cancel_date'].values[i] = pd.to_datetime(data4['cancel_date'].values[i], format='%Y/%m/%d %H:%M')"
   ]
  },
  {
   "cell_type": "code",
   "execution_count": 15,
   "metadata": {},
   "outputs": [],
   "source": [
    "for i in range(len(data4['account_creation_date'])):\n",
    "    if data4['next_payment'].values[i] == 0:\n",
    "        pass\n",
    "    else:\n",
    "        data4['next_payment'].values[i] = pd.to_datetime(data4['next_payment'].values[i], format='%Y/%m/%d %H:%M')"
   ]
  },
  {
   "cell_type": "code",
   "execution_count": 16,
   "metadata": {},
   "outputs": [],
   "source": [
    "for i in range(len(data4['account_creation_date'])):\n",
    "    a = data4['cancel_date'].values[i]\n",
    "    b = data4['account_creation_date'].values[i]\n",
    "    c = data4['next_payment'].values[i]\n",
    "    if a == 0 and c != 0:\n",
    "        data4['active days'].values[i] = (c-b).days\n",
    "    elif a != 0:\n",
    "        data4['active days'].values[i] = (a-b).days\n",
    "    else:\n",
    "        data4['active days'].values[i] = 14"
   ]
  },
  {
   "cell_type": "code",
   "execution_count": 17,
   "metadata": {},
   "outputs": [],
   "source": [
    "data4['active days'] = data4['active days'].astype('int')"
   ]
  },
  {
   "cell_type": "code",
   "execution_count": 18,
   "metadata": {},
   "outputs": [],
   "source": [
    "data4 = data4.drop(columns = ['account_creation_date','next_payment','cancel_date','payment_type'])"
   ]
  },
  {
   "cell_type": "code",
   "execution_count": 19,
   "metadata": {},
   "outputs": [],
   "source": [
    "data4 = data4.drop(columns = ['num_trial_days','trial_completed','initial_credit_card_declined','plan_type'])"
   ]
  },
  {
   "cell_type": "code",
   "execution_count": 20,
   "metadata": {},
   "outputs": [],
   "source": [
    "data4 = data4.drop(columns = 'attribution_technical')"
   ]
  },
  {
   "cell_type": "code",
   "execution_count": 21,
   "metadata": {},
   "outputs": [],
   "source": [
    "data4 = data4.dropna()"
   ]
  },
  {
   "cell_type": "code",
   "execution_count": 22,
   "metadata": {},
   "outputs": [],
   "source": [
    "data4 = data4[data4['age_corrected']>10]"
   ]
  },
  {
   "cell_type": "code",
   "execution_count": 23,
   "metadata": {},
   "outputs": [
    {
     "name": "stdout",
     "output_type": "stream",
     "text": [
      "<class 'pandas.core.frame.DataFrame'>\n",
      "Int64Index: 120733 entries, 2 to 227627\n",
      "Data columns (total 16 columns):\n",
      " #   Column                        Non-Null Count   Dtype  \n",
      "---  ------                        --------------   -----  \n",
      " 0   subid                         120733 non-null  int64  \n",
      " 1   package_type                  120733 non-null  object \n",
      " 2   num_weekly_services_utilized  120733 non-null  float64\n",
      " 3   preferred_genre               120733 non-null  object \n",
      " 4   intended_use                  120733 non-null  object \n",
      " 5   weekly_consumption_hour       120733 non-null  float64\n",
      " 6   num_ideal_streaming_services  120733 non-null  float64\n",
      " 7   male_TF                       120733 non-null  object \n",
      " 8   attribution_survey            120733 non-null  object \n",
      " 9   op_sys                        120733 non-null  object \n",
      " 10  discount_price                120733 non-null  float64\n",
      " 11  join_fee                      120733 non-null  float64\n",
      " 12  current_sub_TF                120733 non-null  bool   \n",
      " 13  payment_period                120733 non-null  int64  \n",
      " 14  age_corrected                 120733 non-null  int64  \n",
      " 15  active days                   120733 non-null  int32  \n",
      "dtypes: bool(1), float64(5), int32(1), int64(3), object(6)\n",
      "memory usage: 14.4+ MB\n"
     ]
    }
   ],
   "source": [
    "data4.info()"
   ]
  },
  {
   "cell_type": "code",
   "execution_count": 25,
   "metadata": {},
   "outputs": [],
   "source": [
    "data4_dummy = pd.get_dummies(data4)"
   ]
  },
  {
   "cell_type": "code",
   "execution_count": 26,
   "metadata": {},
   "outputs": [],
   "source": [
    "cluster_train4, cluster_test4 = train_test_split(data4_dummy, test_size=0.3, random_state=777)\n",
    "train_df4 = pd.DataFrame(cluster_train4, columns=data4_dummy.columns)\n",
    "test_df4 = pd.DataFrame(cluster_test4, columns=data4_dummy.columns)"
   ]
  },
  {
   "cell_type": "code",
   "execution_count": 27,
   "metadata": {},
   "outputs": [],
   "source": [
    "scaler = preprocessing.StandardScaler()\n",
    "train_scaled4 = scaler.fit_transform(cluster_train4)\n",
    "test_scaled4 = scaler.transform(cluster_test4)\n",
    "full_scaled4 = scaler.transform(data4_dummy)"
   ]
  },
  {
   "cell_type": "code",
   "execution_count": 606,
   "metadata": {},
   "outputs": [
    {
     "data": {
      "image/png": "[encoded data removed]",
      "text/plain": [
       "<Figure size 432x288 with 1 Axes>"
      ]
     },
     "metadata": {
      "needs_background": "light"
     },
     "output_type": "display_data"
    }
   ],
   "source": [
    "inertia = []\n",
    "for i in range(1, 11):\n",
    "    kmeans = KMeans(n_clusters=i, init='random', n_init=10, max_iter=200, tol=1e-04, random_state=777)\n",
    "    kmeans.fit(full_scaled4)\n",
    "    inertia.append(kmeans.inertia_)\n",
    "\n",
    "# plot\n",
    "plt.plot(range(1, 11), inertia, marker='o')\n",
    "plt.xlabel('Number of clusters')\n",
    "plt.ylabel('Inertia')\n",
    "plt.show()"
   ]
  },
  {
   "cell_type": "code",
   "execution_count": 29,
   "metadata": {},
   "outputs": [],
   "source": [
    "from sklearn.mixture import GaussianMixture"
   ]
  },
  {
   "cell_type": "code",
   "execution_count": 30,
   "metadata": {},
   "outputs": [
    {
     "data": {
      "image/png": "[encoded data removed]",
      "text/plain": [
       "<Figure size 432x288 with 1 Axes>"
      ]
     },
     "metadata": {
      "needs_background": "light"
     },
     "output_type": "display_data"
    }
   ],
   "source": [
    "bic = []\n",
    "for i in range(12):\n",
    "    gm = GaussianMixture(\n",
    "                     n_components = i+1,\n",
    "                     covariance_type='full')\n",
    "    \n",
    "    gm.fit(full_scaled4)\n",
    "    bic.append(gm.bic(full_scaled4))\n",
    "    \n",
    "fig = plt.figure()\n",
    "plt.plot([1,2,3,4,5,6,7,8,9,10,11,12], bic, marker = \"d\", label = 'bic')\n",
    "plt.xlabel('Number of clusters')\n",
    "plt.show()"
   ]
  },
  {
   "cell_type": "code",
   "execution_count": 609,
   "metadata": {},
   "outputs": [],
   "source": [
    "kmeans = KMeans(n_clusters=4, init='random', n_init=10, max_iter=200, tol=1e-04, random_state=6868)\n",
    "train_cluster_kmeans = kmeans.fit_predict(train_scaled4)\n",
    "test_cluster_kmeans = kmeans.predict(test_scaled4)\n",
    "full_cluster_kmeans = kmeans.predict(full_scaled4)"
   ]
  },
  {
   "cell_type": "code",
   "execution_count": 610,
   "metadata": {},
   "outputs": [],
   "source": [
    "data_copy4 = data4\n",
    "data_copy4['cluster_kmeans'] = full_cluster_kmeans\n",
    "data_copy4.to_csv('Clustering Results_4.csv')"
   ]
  },
  {
   "cell_type": "code",
   "execution_count": 24,
   "metadata": {},
   "outputs": [],
   "source": [
    "data4.to_csv('Clustering.csv')"
   ]
  },
  {
   "cell_type": "code",
   "execution_count": null,
   "metadata": {},
   "outputs": [],
   "source": []
  }
 ],
 "metadata": {
  "kernelspec": {
   "display_name": "Python 3",
   "language": "python",
   "name": "python3"
  },
  "language_info": {
   "codemirror_mode": {
    "name": "ipython",
    "version": 3
   },
   "file_extension": ".py",
   "mimetype": "text/x-python",
   "name": "python",
   "nbconvert_exporter": "python",
   "pygments_lexer": "ipython3",
   "version": "3.8.3"
  }
 },
 "nbformat": 4,
 "nbformat_minor": 4
}
