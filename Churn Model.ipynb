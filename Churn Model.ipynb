{
 "cells": [
  {
   "cell_type": "code",
   "execution_count": 26,
   "metadata": {},
   "outputs": [],
   "source": [
    "import pandas as pd\n",
    "from datetime import datetime as dt\n",
    "import matplotlib.pyplot as plt\n",
    "from sklearn.model_selection import train_test_split\n",
    "from sklearn import preprocessing\n",
    "from sklearn.linear_model import LogisticRegression"
   ]
  },
  {
   "cell_type": "code",
   "execution_count": 27,
   "metadata": {},
   "outputs": [],
   "source": [
    "df = pd.read_csv('subscribers_new.csv')"
   ]
  },
  {
   "cell_type": "code",
   "execution_count": 28,
   "metadata": {},
   "outputs": [
    {
     "data": {
      "text/html": [
       "<div>\n",
       "<style scoped>\n",
       "    .dataframe tbody tr th:only-of-type {\n",
       "        vertical-align: middle;\n",
       "    }\n",
       "\n",
       "    .dataframe tbody tr th {\n",
       "        vertical-align: top;\n",
       "    }\n",
       "\n",
       "    .dataframe thead th {\n",
       "        text-align: right;\n",
       "    }\n",
       "</style>\n",
       "<table border=\"1\" class=\"dataframe\">\n",
       "  <thead>\n",
       "    <tr style=\"text-align: right;\">\n",
       "      <th></th>\n",
       "      <th>Unnamed: 0</th>\n",
       "      <th>subid</th>\n",
       "      <th>package_type</th>\n",
       "      <th>num_weekly_services_utilized</th>\n",
       "      <th>preferred_genre</th>\n",
       "      <th>intended_use</th>\n",
       "      <th>weekly_consumption_hour</th>\n",
       "      <th>num_ideal_streaming_services</th>\n",
       "      <th>age</th>\n",
       "      <th>male_TF</th>\n",
       "      <th>...</th>\n",
       "      <th>join_fee</th>\n",
       "      <th>language</th>\n",
       "      <th>payment_type</th>\n",
       "      <th>num_trial_days</th>\n",
       "      <th>current_sub_TF</th>\n",
       "      <th>payment_period</th>\n",
       "      <th>last_payment</th>\n",
       "      <th>next_payment</th>\n",
       "      <th>cancel_date</th>\n",
       "      <th>trial_completed</th>\n",
       "    </tr>\n",
       "  </thead>\n",
       "  <tbody>\n",
       "    <tr>\n",
       "      <th>0</th>\n",
       "      <td>162502</td>\n",
       "      <td>21724479</td>\n",
       "      <td>economy</td>\n",
       "      <td>NaN</td>\n",
       "      <td>comedy</td>\n",
       "      <td>access to exclusive content</td>\n",
       "      <td>NaN</td>\n",
       "      <td>NaN</td>\n",
       "      <td>NaN</td>\n",
       "      <td>False</td>\n",
       "      <td>...</td>\n",
       "      <td>NaN</td>\n",
       "      <td>ar</td>\n",
       "      <td>Standard Charter</td>\n",
       "      <td>14</td>\n",
       "      <td>True</td>\n",
       "      <td>1</td>\n",
       "      <td>2020-02-07 21:44:16</td>\n",
       "      <td>2020-06-07 21:44:16</td>\n",
       "      <td>NaN</td>\n",
       "      <td>True</td>\n",
       "    </tr>\n",
       "    <tr>\n",
       "      <th>1</th>\n",
       "      <td>380374</td>\n",
       "      <td>23383224</td>\n",
       "      <td>base</td>\n",
       "      <td>NaN</td>\n",
       "      <td>comedy</td>\n",
       "      <td>access to exclusive content</td>\n",
       "      <td>22.951579</td>\n",
       "      <td>NaN</td>\n",
       "      <td>70.0</td>\n",
       "      <td>False</td>\n",
       "      <td>...</td>\n",
       "      <td>0.3303</td>\n",
       "      <td>ar</td>\n",
       "      <td>NaN</td>\n",
       "      <td>14</td>\n",
       "      <td>True</td>\n",
       "      <td>1</td>\n",
       "      <td>2020-03-15 15:44:35</td>\n",
       "      <td>2020-07-15 15:44:35</td>\n",
       "      <td>NaN</td>\n",
       "      <td>True</td>\n",
       "    </tr>\n",
       "    <tr>\n",
       "      <th>2</th>\n",
       "      <td>496617</td>\n",
       "      <td>26844789</td>\n",
       "      <td>enhanced</td>\n",
       "      <td>3.0</td>\n",
       "      <td>regional</td>\n",
       "      <td>replace OTT</td>\n",
       "      <td>36.001186</td>\n",
       "      <td>2.0</td>\n",
       "      <td>25.0</td>\n",
       "      <td>True</td>\n",
       "      <td>...</td>\n",
       "      <td>0.1101</td>\n",
       "      <td>ar</td>\n",
       "      <td>NaN</td>\n",
       "      <td>14</td>\n",
       "      <td>False</td>\n",
       "      <td>0</td>\n",
       "      <td>NaN</td>\n",
       "      <td>NaN</td>\n",
       "      <td>NaN</td>\n",
       "      <td>True</td>\n",
       "    </tr>\n",
       "    <tr>\n",
       "      <th>3</th>\n",
       "      <td>356799</td>\n",
       "      <td>29417030</td>\n",
       "      <td>base</td>\n",
       "      <td>NaN</td>\n",
       "      <td>drama</td>\n",
       "      <td>replace OTT</td>\n",
       "      <td>20.051667</td>\n",
       "      <td>NaN</td>\n",
       "      <td>30.0</td>\n",
       "      <td>False</td>\n",
       "      <td>...</td>\n",
       "      <td>0.0367</td>\n",
       "      <td>ar</td>\n",
       "      <td>NaN</td>\n",
       "      <td>14</td>\n",
       "      <td>False</td>\n",
       "      <td>0</td>\n",
       "      <td>NaN</td>\n",
       "      <td>NaN</td>\n",
       "      <td>NaN</td>\n",
       "      <td>True</td>\n",
       "    </tr>\n",
       "    <tr>\n",
       "      <th>4</th>\n",
       "      <td>681701</td>\n",
       "      <td>26723159</td>\n",
       "      <td>base</td>\n",
       "      <td>4.0</td>\n",
       "      <td>comedy</td>\n",
       "      <td>replace OTT</td>\n",
       "      <td>22.951579</td>\n",
       "      <td>3.0</td>\n",
       "      <td>28.0</td>\n",
       "      <td>False</td>\n",
       "      <td>...</td>\n",
       "      <td>0.0367</td>\n",
       "      <td>ar</td>\n",
       "      <td>NaN</td>\n",
       "      <td>14</td>\n",
       "      <td>True</td>\n",
       "      <td>2</td>\n",
       "      <td>2020-02-19 12:57:07</td>\n",
       "      <td>2020-06-19 12:57:07</td>\n",
       "      <td>NaN</td>\n",
       "      <td>True</td>\n",
       "    </tr>\n",
       "  </tbody>\n",
       "</table>\n",
       "<p>5 rows × 31 columns</p>\n",
       "</div>"
      ],
      "text/plain": [
       "   Unnamed: 0     subid package_type  num_weekly_services_utilized  \\\n",
       "0      162502  21724479      economy                           NaN   \n",
       "1      380374  23383224         base                           NaN   \n",
       "2      496617  26844789     enhanced                           3.0   \n",
       "3      356799  29417030         base                           NaN   \n",
       "4      681701  26723159         base                           4.0   \n",
       "\n",
       "  preferred_genre                 intended_use  weekly_consumption_hour  \\\n",
       "0          comedy  access to exclusive content                      NaN   \n",
       "1          comedy  access to exclusive content                22.951579   \n",
       "2        regional                  replace OTT                36.001186   \n",
       "3           drama                  replace OTT                20.051667   \n",
       "4          comedy                  replace OTT                22.951579   \n",
       "\n",
       "   num_ideal_streaming_services   age male_TF  ... join_fee language  \\\n",
       "0                           NaN   NaN   False  ...      NaN       ar   \n",
       "1                           NaN  70.0   False  ...   0.3303       ar   \n",
       "2                           2.0  25.0    True  ...   0.1101       ar   \n",
       "3                           NaN  30.0   False  ...   0.0367       ar   \n",
       "4                           3.0  28.0   False  ...   0.0367       ar   \n",
       "\n",
       "       payment_type num_trial_days  current_sub_TF payment_period  \\\n",
       "0  Standard Charter             14            True              1   \n",
       "1               NaN             14            True              1   \n",
       "2               NaN             14           False              0   \n",
       "3               NaN             14           False              0   \n",
       "4               NaN             14            True              2   \n",
       "\n",
       "          last_payment         next_payment cancel_date trial_completed  \n",
       "0  2020-02-07 21:44:16  2020-06-07 21:44:16         NaN            True  \n",
       "1  2020-03-15 15:44:35  2020-07-15 15:44:35         NaN            True  \n",
       "2                  NaN                  NaN         NaN            True  \n",
       "3                  NaN                  NaN         NaN            True  \n",
       "4  2020-02-19 12:57:07  2020-06-19 12:57:07         NaN            True  \n",
       "\n",
       "[5 rows x 31 columns]"
      ]
     },
     "execution_count": 28,
     "metadata": {},
     "output_type": "execute_result"
    }
   ],
   "source": [
    "df.head()"
   ]
  },
  {
   "cell_type": "code",
   "execution_count": 29,
   "metadata": {},
   "outputs": [],
   "source": [
    "df = df[df['plan_type'] == 'base_uae_14_day_trial']"
   ]
  },
  {
   "cell_type": "code",
   "execution_count": 30,
   "metadata": {},
   "outputs": [
    {
     "name": "stdout",
     "output_type": "stream",
     "text": [
      "<class 'pandas.core.frame.DataFrame'>\n",
      "Int64Index: 227096 entries, 0 to 227627\n",
      "Data columns (total 31 columns):\n",
      " #   Column                        Non-Null Count   Dtype  \n",
      "---  ------                        --------------   -----  \n",
      " 0   Unnamed: 0                    227096 non-null  int64  \n",
      " 1   subid                         227096 non-null  int64  \n",
      " 2   package_type                  191713 non-null  object \n",
      " 3   num_weekly_services_utilized  116840 non-null  float64\n",
      " 4   preferred_genre               190961 non-null  object \n",
      " 5   intended_use                  223731 non-null  object \n",
      " 6   weekly_consumption_hour       189345 non-null  float64\n",
      " 7   num_ideal_streaming_services  115251 non-null  float64\n",
      " 8   age                           191927 non-null  float64\n",
      " 9   male_TF                       226827 non-null  object \n",
      " 10  country                       227096 non-null  object \n",
      " 11  attribution_technical         227096 non-null  object \n",
      " 12  attribution_survey            224633 non-null  object \n",
      " 13  op_sys                        213751 non-null  object \n",
      " 14  months_per_bill_period        227096 non-null  int64  \n",
      " 15  plan_type                     227096 non-null  object \n",
      " 16  monthly_price                 227096 non-null  float64\n",
      " 17  discount_price                227096 non-null  float64\n",
      " 18  account_creation_date         227096 non-null  object \n",
      " 19  trial_end_date                227096 non-null  object \n",
      " 20  initial_credit_card_declined  227096 non-null  bool   \n",
      " 21  join_fee                      192192 non-null  float64\n",
      " 22  language                      227096 non-null  object \n",
      " 23  payment_type                  91776 non-null   object \n",
      " 24  num_trial_days                227096 non-null  int64  \n",
      " 25  current_sub_TF                227096 non-null  bool   \n",
      " 26  payment_period                227096 non-null  int64  \n",
      " 27  last_payment                  131919 non-null  object \n",
      " 28  next_payment                  130009 non-null  object \n",
      " 29  cancel_date                   36709 non-null   object \n",
      " 30  trial_completed               227096 non-null  bool   \n",
      "dtypes: bool(3), float64(7), int64(5), object(16)\n",
      "memory usage: 50.9+ MB\n"
     ]
    }
   ],
   "source": [
    "df.info()"
   ]
  },
  {
   "cell_type": "code",
   "execution_count": 47,
   "metadata": {},
   "outputs": [],
   "source": [
    "data = df.drop(columns = ['Unnamed: 0','subid','language','country','months_per_bill_period','plan_type','num_trial_days','last_payment',\\\n",
    "                          'monthly_price','payment_type','account_creation_date','next_payment'])"
   ]
  },
  {
   "cell_type": "code",
   "execution_count": 48,
   "metadata": {},
   "outputs": [
    {
     "name": "stdout",
     "output_type": "stream",
     "text": [
      "<class 'pandas.core.frame.DataFrame'>\n",
      "Int64Index: 227096 entries, 0 to 227627\n",
      "Data columns (total 19 columns):\n",
      " #   Column                        Non-Null Count   Dtype  \n",
      "---  ------                        --------------   -----  \n",
      " 0   package_type                  191713 non-null  object \n",
      " 1   num_weekly_services_utilized  116840 non-null  float64\n",
      " 2   preferred_genre               190961 non-null  object \n",
      " 3   intended_use                  223731 non-null  object \n",
      " 4   weekly_consumption_hour       189345 non-null  float64\n",
      " 5   num_ideal_streaming_services  115251 non-null  float64\n",
      " 6   age                           191927 non-null  float64\n",
      " 7   male_TF                       226827 non-null  object \n",
      " 8   attribution_technical         227096 non-null  object \n",
      " 9   attribution_survey            224633 non-null  object \n",
      " 10  op_sys                        213751 non-null  object \n",
      " 11  discount_price                227096 non-null  float64\n",
      " 12  trial_end_date                227096 non-null  object \n",
      " 13  initial_credit_card_declined  227096 non-null  bool   \n",
      " 14  join_fee                      192192 non-null  float64\n",
      " 15  current_sub_TF                227096 non-null  bool   \n",
      " 16  payment_period                227096 non-null  int64  \n",
      " 17  cancel_date                   36709 non-null   object \n",
      " 18  trial_completed               227096 non-null  bool   \n",
      "dtypes: bool(3), float64(6), int64(1), object(9)\n",
      "memory usage: 30.1+ MB\n"
     ]
    }
   ],
   "source": [
    "data.info()"
   ]
  },
  {
   "cell_type": "markdown",
   "metadata": {},
   "source": [
    "### Remove negative weekly consumption hours and join fee"
   ]
  },
  {
   "cell_type": "code",
   "execution_count": 49,
   "metadata": {},
   "outputs": [],
   "source": [
    "data = data[data['weekly_consumption_hour'] >= 0]\n",
    "data = data[data['join_fee'] >= 0]"
   ]
  },
  {
   "cell_type": "code",
   "execution_count": 50,
   "metadata": {},
   "outputs": [
    {
     "name": "stdout",
     "output_type": "stream",
     "text": [
      "<class 'pandas.core.frame.DataFrame'>\n",
      "Int64Index: 189304 entries, 1 to 227627\n",
      "Data columns (total 19 columns):\n",
      " #   Column                        Non-Null Count   Dtype  \n",
      "---  ------                        --------------   -----  \n",
      " 0   package_type                  155652 non-null  object \n",
      " 1   num_weekly_services_utilized  115463 non-null  float64\n",
      " 2   preferred_genre               154900 non-null  object \n",
      " 3   intended_use                  187496 non-null  object \n",
      " 4   weekly_consumption_hour       189304 non-null  float64\n",
      " 5   num_ideal_streaming_services  115103 non-null  float64\n",
      " 6   age                           189304 non-null  float64\n",
      " 7   male_TF                       189301 non-null  object \n",
      " 8   attribution_technical         189304 non-null  object \n",
      " 9   attribution_survey            188412 non-null  object \n",
      " 10  op_sys                        176869 non-null  object \n",
      " 11  discount_price                189304 non-null  float64\n",
      " 12  trial_end_date                189304 non-null  object \n",
      " 13  initial_credit_card_declined  189304 non-null  bool   \n",
      " 14  join_fee                      189304 non-null  float64\n",
      " 15  current_sub_TF                189304 non-null  bool   \n",
      " 16  payment_period                189304 non-null  int64  \n",
      " 17  cancel_date                   32043 non-null   object \n",
      " 18  trial_completed               189304 non-null  bool   \n",
      "dtypes: bool(3), float64(6), int64(1), object(9)\n",
      "memory usage: 25.1+ MB\n"
     ]
    }
   ],
   "source": [
    "data.info()"
   ]
  },
  {
   "cell_type": "markdown",
   "metadata": {},
   "source": [
    "### Deal with unusual age values"
   ]
  },
  {
   "cell_type": "code",
   "execution_count": 51,
   "metadata": {},
   "outputs": [],
   "source": [
    "data['age_corrected'] = 0     "
   ]
  },
  {
   "cell_type": "code",
   "execution_count": 52,
   "metadata": {},
   "outputs": [],
   "source": [
    "for i in range(len(data['age'])):\n",
    "    a = data['age'].values[i]\n",
    "    if a > 1900 and a < 2020:\n",
    "        data['age_corrected'].values[i] = 2020-a\n",
    "    else:\n",
    "        data['age_corrected'].values[i] = a"
   ]
  },
  {
   "cell_type": "code",
   "execution_count": 53,
   "metadata": {},
   "outputs": [],
   "source": [
    "data = data[data['age_corrected'] < 110]"
   ]
  },
  {
   "cell_type": "code",
   "execution_count": 54,
   "metadata": {},
   "outputs": [
    {
     "data": {
      "text/plain": [
       "46.187620255841"
      ]
     },
     "execution_count": 54,
     "metadata": {},
     "output_type": "execute_result"
    }
   ],
   "source": [
    "data['age_corrected'].values.mean()"
   ]
  },
  {
   "cell_type": "code",
   "execution_count": 55,
   "metadata": {},
   "outputs": [],
   "source": [
    "data = data.drop(columns = 'age')"
   ]
  },
  {
   "cell_type": "code",
   "execution_count": 56,
   "metadata": {},
   "outputs": [
    {
     "name": "stdout",
     "output_type": "stream",
     "text": [
      "<class 'pandas.core.frame.DataFrame'>\n",
      "Int64Index: 189180 entries, 1 to 227627\n",
      "Data columns (total 19 columns):\n",
      " #   Column                        Non-Null Count   Dtype  \n",
      "---  ------                        --------------   -----  \n",
      " 0   package_type                  155542 non-null  object \n",
      " 1   num_weekly_services_utilized  115416 non-null  float64\n",
      " 2   preferred_genre               154792 non-null  object \n",
      " 3   intended_use                  187374 non-null  object \n",
      " 4   weekly_consumption_hour       189180 non-null  float64\n",
      " 5   num_ideal_streaming_services  115056 non-null  float64\n",
      " 6   male_TF                       189177 non-null  object \n",
      " 7   attribution_technical         189180 non-null  object \n",
      " 8   attribution_survey            188288 non-null  object \n",
      " 9   op_sys                        176767 non-null  object \n",
      " 10  discount_price                189180 non-null  float64\n",
      " 11  trial_end_date                189180 non-null  object \n",
      " 12  initial_credit_card_declined  189180 non-null  bool   \n",
      " 13  join_fee                      189180 non-null  float64\n",
      " 14  current_sub_TF                189180 non-null  bool   \n",
      " 15  payment_period                189180 non-null  int64  \n",
      " 16  cancel_date                   32023 non-null   object \n",
      " 17  trial_completed               189180 non-null  bool   \n",
      " 18  age_corrected                 189180 non-null  int64  \n",
      "dtypes: bool(3), float64(5), int64(2), object(9)\n",
      "memory usage: 25.1+ MB\n"
     ]
    }
   ],
   "source": [
    "data.info()"
   ]
  },
  {
   "cell_type": "markdown",
   "metadata": {},
   "source": [
    "### Fill NAs for weekly services utilized and ideal streaming services"
   ]
  },
  {
   "cell_type": "code",
   "execution_count": 57,
   "metadata": {},
   "outputs": [],
   "source": [
    "a = int(data['num_weekly_services_utilized'].dropna().mode().values)\n",
    "b = int(data['num_ideal_streaming_services'].dropna().mode().values)\n",
    "data['num_weekly_services_utilized'] = data['num_weekly_services_utilized'].fillna(a)\n",
    "data['num_ideal_streaming_services'] = data['num_ideal_streaming_services'].fillna(b)"
   ]
  },
  {
   "cell_type": "code",
   "execution_count": 58,
   "metadata": {},
   "outputs": [
    {
     "name": "stdout",
     "output_type": "stream",
     "text": [
      "<class 'pandas.core.frame.DataFrame'>\n",
      "Int64Index: 189180 entries, 1 to 227627\n",
      "Data columns (total 19 columns):\n",
      " #   Column                        Non-Null Count   Dtype  \n",
      "---  ------                        --------------   -----  \n",
      " 0   package_type                  155542 non-null  object \n",
      " 1   num_weekly_services_utilized  189180 non-null  float64\n",
      " 2   preferred_genre               154792 non-null  object \n",
      " 3   intended_use                  187374 non-null  object \n",
      " 4   weekly_consumption_hour       189180 non-null  float64\n",
      " 5   num_ideal_streaming_services  189180 non-null  float64\n",
      " 6   male_TF                       189177 non-null  object \n",
      " 7   attribution_technical         189180 non-null  object \n",
      " 8   attribution_survey            188288 non-null  object \n",
      " 9   op_sys                        176767 non-null  object \n",
      " 10  discount_price                189180 non-null  float64\n",
      " 11  trial_end_date                189180 non-null  object \n",
      " 12  initial_credit_card_declined  189180 non-null  bool   \n",
      " 13  join_fee                      189180 non-null  float64\n",
      " 14  current_sub_TF                189180 non-null  bool   \n",
      " 15  payment_period                189180 non-null  int64  \n",
      " 16  cancel_date                   32023 non-null   object \n",
      " 17  trial_completed               189180 non-null  bool   \n",
      " 18  age_corrected                 189180 non-null  int64  \n",
      "dtypes: bool(3), float64(5), int64(2), object(9)\n",
      "memory usage: 25.1+ MB\n"
     ]
    }
   ],
   "source": [
    "data.info()"
   ]
  },
  {
   "cell_type": "markdown",
   "metadata": {},
   "source": [
    "### Deal with abnormal cancellation"
   ]
  },
  {
   "cell_type": "code",
   "execution_count": 59,
   "metadata": {},
   "outputs": [],
   "source": [
    "data['cancel_date'] = data['cancel_date'].fillna(0)"
   ]
  },
  {
   "cell_type": "code",
   "execution_count": 60,
   "metadata": {},
   "outputs": [],
   "source": [
    "abnormal = data[(data['current_sub_TF'] == False) & (data['payment_period'] >= 1) & (data['trial_completed'] == False)]"
   ]
  },
  {
   "cell_type": "code",
   "execution_count": 61,
   "metadata": {},
   "outputs": [
    {
     "data": {
      "text/plain": [
       "(239, 19)"
      ]
     },
     "execution_count": 61,
     "metadata": {},
     "output_type": "execute_result"
    }
   ],
   "source": [
    "abnormal.shape"
   ]
  },
  {
   "cell_type": "code",
   "execution_count": 62,
   "metadata": {},
   "outputs": [],
   "source": [
    "data = data[~data.apply(tuple,1).isin(abnormal.apply(tuple,1))]"
   ]
  },
  {
   "cell_type": "code",
   "execution_count": 63,
   "metadata": {},
   "outputs": [
    {
     "data": {
      "text/plain": [
       "(188941, 19)"
      ]
     },
     "execution_count": 63,
     "metadata": {},
     "output_type": "execute_result"
    }
   ],
   "source": [
    "data.shape"
   ]
  },
  {
   "cell_type": "markdown",
   "metadata": {},
   "source": [
    "### Split training and testing set"
   ]
  },
  {
   "cell_type": "code",
   "execution_count": 64,
   "metadata": {},
   "outputs": [],
   "source": [
    "data_use = data.dropna()"
   ]
  },
  {
   "cell_type": "code",
   "execution_count": 65,
   "metadata": {},
   "outputs": [
    {
     "name": "stdout",
     "output_type": "stream",
     "text": [
      "<class 'pandas.core.frame.DataFrame'>\n",
      "Int64Index: 143590 entries, 2 to 227627\n",
      "Data columns (total 19 columns):\n",
      " #   Column                        Non-Null Count   Dtype  \n",
      "---  ------                        --------------   -----  \n",
      " 0   package_type                  143590 non-null  object \n",
      " 1   num_weekly_services_utilized  143590 non-null  float64\n",
      " 2   preferred_genre               143590 non-null  object \n",
      " 3   intended_use                  143590 non-null  object \n",
      " 4   weekly_consumption_hour       143590 non-null  float64\n",
      " 5   num_ideal_streaming_services  143590 non-null  float64\n",
      " 6   male_TF                       143590 non-null  object \n",
      " 7   attribution_technical         143590 non-null  object \n",
      " 8   attribution_survey            143590 non-null  object \n",
      " 9   op_sys                        143590 non-null  object \n",
      " 10  discount_price                143590 non-null  float64\n",
      " 11  trial_end_date                143590 non-null  object \n",
      " 12  initial_credit_card_declined  143590 non-null  bool   \n",
      " 13  join_fee                      143590 non-null  float64\n",
      " 14  current_sub_TF                143590 non-null  bool   \n",
      " 15  payment_period                143590 non-null  int64  \n",
      " 16  cancel_date                   143590 non-null  object \n",
      " 17  trial_completed               143590 non-null  bool   \n",
      " 18  age_corrected                 143590 non-null  int64  \n",
      "dtypes: bool(3), float64(5), int64(2), object(9)\n",
      "memory usage: 19.0+ MB\n"
     ]
    }
   ],
   "source": [
    "data_use.info()"
   ]
  },
  {
   "cell_type": "code",
   "execution_count": 66,
   "metadata": {},
   "outputs": [],
   "source": [
    "data_train1 = data_use[data_use['payment_period'] >= 1]"
   ]
  },
  {
   "cell_type": "code",
   "execution_count": 67,
   "metadata": {},
   "outputs": [
    {
     "data": {
      "text/plain": [
       "(91275, 19)"
      ]
     },
     "execution_count": 67,
     "metadata": {},
     "output_type": "execute_result"
    }
   ],
   "source": [
    "data_train1.shape"
   ]
  },
  {
   "cell_type": "code",
   "execution_count": 68,
   "metadata": {},
   "outputs": [],
   "source": [
    "import numpy as np\n",
    "data_train2 = data_use[np.logical_and(data_use['payment_period'] == 0,data_use['cancel_date'] != 0)]"
   ]
  },
  {
   "cell_type": "code",
   "execution_count": 69,
   "metadata": {},
   "outputs": [
    {
     "data": {
      "text/plain": [
       "(14735, 19)"
      ]
     },
     "execution_count": 69,
     "metadata": {},
     "output_type": "execute_result"
    }
   ],
   "source": [
    "data_train2.shape"
   ]
  },
  {
   "cell_type": "code",
   "execution_count": 70,
   "metadata": {},
   "outputs": [],
   "source": [
    "data_train3 = data_use[(data_use['payment_period'] == 0)&(data_use['cancel_date'] == 0)&(data_use['current_sub_TF'] == False)]"
   ]
  },
  {
   "cell_type": "code",
   "execution_count": 71,
   "metadata": {},
   "outputs": [
    {
     "data": {
      "text/plain": [
       "(31720, 19)"
      ]
     },
     "execution_count": 71,
     "metadata": {},
     "output_type": "execute_result"
    }
   ],
   "source": [
    "data_train3.shape"
   ]
  },
  {
   "cell_type": "code",
   "execution_count": 72,
   "metadata": {
    "scrolled": true
   },
   "outputs": [],
   "source": [
    "frames = [data_train1,data_train2,data_train3]\n",
    "data_train = pd.concat(frames)"
   ]
  },
  {
   "cell_type": "code",
   "execution_count": 73,
   "metadata": {},
   "outputs": [
    {
     "name": "stdout",
     "output_type": "stream",
     "text": [
      "<class 'pandas.core.frame.DataFrame'>\n",
      "Int64Index: 137730 entries, 4 to 227614\n",
      "Data columns (total 19 columns):\n",
      " #   Column                        Non-Null Count   Dtype  \n",
      "---  ------                        --------------   -----  \n",
      " 0   package_type                  137730 non-null  object \n",
      " 1   num_weekly_services_utilized  137730 non-null  float64\n",
      " 2   preferred_genre               137730 non-null  object \n",
      " 3   intended_use                  137730 non-null  object \n",
      " 4   weekly_consumption_hour       137730 non-null  float64\n",
      " 5   num_ideal_streaming_services  137730 non-null  float64\n",
      " 6   male_TF                       137730 non-null  object \n",
      " 7   attribution_technical         137730 non-null  object \n",
      " 8   attribution_survey            137730 non-null  object \n",
      " 9   op_sys                        137730 non-null  object \n",
      " 10  discount_price                137730 non-null  float64\n",
      " 11  trial_end_date                137730 non-null  object \n",
      " 12  initial_credit_card_declined  137730 non-null  bool   \n",
      " 13  join_fee                      137730 non-null  float64\n",
      " 14  current_sub_TF                137730 non-null  bool   \n",
      " 15  payment_period                137730 non-null  int64  \n",
      " 16  cancel_date                   137730 non-null  object \n",
      " 17  trial_completed               137730 non-null  bool   \n",
      " 18  age_corrected                 137730 non-null  int64  \n",
      "dtypes: bool(3), float64(5), int64(2), object(9)\n",
      "memory usage: 18.3+ MB\n"
     ]
    }
   ],
   "source": [
    "data_train.info()"
   ]
  },
  {
   "cell_type": "code",
   "execution_count": 74,
   "metadata": {},
   "outputs": [],
   "source": [
    "data_test = data_use[~data_use.apply(tuple,1).isin(data_train.apply(tuple,1))]"
   ]
  },
  {
   "cell_type": "code",
   "execution_count": 75,
   "metadata": {},
   "outputs": [
    {
     "data": {
      "text/plain": [
       "(5860, 19)"
      ]
     },
     "execution_count": 75,
     "metadata": {},
     "output_type": "execute_result"
    }
   ],
   "source": [
    "data_test.shape"
   ]
  },
  {
   "cell_type": "code",
   "execution_count": 76,
   "metadata": {},
   "outputs": [],
   "source": [
    "data_train['churn'] = ''\n",
    "for i in range(len(data_train)):\n",
    "    if data_train['payment_period'].values[i] >= 1:\n",
    "        data_train['churn'].values[i] = 0\n",
    "    else:\n",
    "        data_train['churn'].values[i] = 1"
   ]
  },
  {
   "cell_type": "code",
   "execution_count": 77,
   "metadata": {},
   "outputs": [
    {
     "data": {
      "text/plain": [
       "46455"
      ]
     },
     "execution_count": 77,
     "metadata": {},
     "output_type": "execute_result"
    }
   ],
   "source": [
    "data_train['churn'].values.sum()"
   ]
  },
  {
   "cell_type": "code",
   "execution_count": 78,
   "metadata": {},
   "outputs": [
    {
     "name": "stdout",
     "output_type": "stream",
     "text": [
      "<class 'pandas.core.frame.DataFrame'>\n",
      "Int64Index: 137730 entries, 4 to 227614\n",
      "Data columns (total 20 columns):\n",
      " #   Column                        Non-Null Count   Dtype  \n",
      "---  ------                        --------------   -----  \n",
      " 0   package_type                  137730 non-null  object \n",
      " 1   num_weekly_services_utilized  137730 non-null  float64\n",
      " 2   preferred_genre               137730 non-null  object \n",
      " 3   intended_use                  137730 non-null  object \n",
      " 4   weekly_consumption_hour       137730 non-null  float64\n",
      " 5   num_ideal_streaming_services  137730 non-null  float64\n",
      " 6   male_TF                       137730 non-null  object \n",
      " 7   attribution_technical         137730 non-null  object \n",
      " 8   attribution_survey            137730 non-null  object \n",
      " 9   op_sys                        137730 non-null  object \n",
      " 10  discount_price                137730 non-null  float64\n",
      " 11  trial_end_date                137730 non-null  object \n",
      " 12  initial_credit_card_declined  137730 non-null  bool   \n",
      " 13  join_fee                      137730 non-null  float64\n",
      " 14  current_sub_TF                137730 non-null  bool   \n",
      " 15  payment_period                137730 non-null  int64  \n",
      " 16  cancel_date                   137730 non-null  object \n",
      " 17  trial_completed               137730 non-null  bool   \n",
      " 18  age_corrected                 137730 non-null  int64  \n",
      " 19  churn                         137730 non-null  object \n",
      "dtypes: bool(3), float64(5), int64(2), object(10)\n",
      "memory usage: 19.3+ MB\n"
     ]
    }
   ],
   "source": [
    "data_train.info()"
   ]
  },
  {
   "cell_type": "code",
   "execution_count": null,
   "metadata": {},
   "outputs": [],
   "source": [
    "data_train.to_csv('churn_train.csv')"
   ]
  },
  {
   "cell_type": "code",
   "execution_count": 79,
   "metadata": {},
   "outputs": [],
   "source": [
    "data_train = data_train.drop(columns = ['trial_end_date','cancel_date','current_sub_TF','trial_completed','discount_price','payment_period'])"
   ]
  },
  {
   "cell_type": "code",
   "execution_count": 80,
   "metadata": {},
   "outputs": [
    {
     "name": "stdout",
     "output_type": "stream",
     "text": [
      "<class 'pandas.core.frame.DataFrame'>\n",
      "Int64Index: 137730 entries, 4 to 227614\n",
      "Data columns (total 14 columns):\n",
      " #   Column                        Non-Null Count   Dtype  \n",
      "---  ------                        --------------   -----  \n",
      " 0   package_type                  137730 non-null  object \n",
      " 1   num_weekly_services_utilized  137730 non-null  float64\n",
      " 2   preferred_genre               137730 non-null  object \n",
      " 3   intended_use                  137730 non-null  object \n",
      " 4   weekly_consumption_hour       137730 non-null  float64\n",
      " 5   num_ideal_streaming_services  137730 non-null  float64\n",
      " 6   male_TF                       137730 non-null  object \n",
      " 7   attribution_technical         137730 non-null  object \n",
      " 8   attribution_survey            137730 non-null  object \n",
      " 9   op_sys                        137730 non-null  object \n",
      " 10  initial_credit_card_declined  137730 non-null  bool   \n",
      " 11  join_fee                      137730 non-null  float64\n",
      " 12  age_corrected                 137730 non-null  int64  \n",
      " 13  churn                         137730 non-null  object \n",
      "dtypes: bool(1), float64(4), int64(1), object(8)\n",
      "memory usage: 14.8+ MB\n"
     ]
    }
   ],
   "source": [
    "data_train.info()"
   ]
  },
  {
   "cell_type": "code",
   "execution_count": 88,
   "metadata": {},
   "outputs": [],
   "source": [
    "data_train['churn'] = data_train['churn'].astype('int')"
   ]
  },
  {
   "cell_type": "code",
   "execution_count": 89,
   "metadata": {},
   "outputs": [],
   "source": [
    "train_dummy = pd.get_dummies(data_train, drop_first=True)"
   ]
  },
  {
   "cell_type": "code",
   "execution_count": 90,
   "metadata": {},
   "outputs": [
    {
     "name": "stdout",
     "output_type": "stream",
     "text": [
      "<class 'pandas.core.frame.DataFrame'>\n",
      "Int64Index: 137730 entries, 4 to 227614\n",
      "Data columns (total 67 columns):\n",
      " #   Column                                         Non-Null Count   Dtype  \n",
      "---  ------                                         --------------   -----  \n",
      " 0   num_weekly_services_utilized                   137730 non-null  float64\n",
      " 1   weekly_consumption_hour                        137730 non-null  float64\n",
      " 2   num_ideal_streaming_services                   137730 non-null  float64\n",
      " 3   initial_credit_card_declined                   137730 non-null  bool   \n",
      " 4   join_fee                                       137730 non-null  float64\n",
      " 5   age_corrected                                  137730 non-null  int64  \n",
      " 6   churn                                          137730 non-null  int32  \n",
      " 7   package_type_economy                           137730 non-null  uint8  \n",
      " 8   package_type_enhanced                          137730 non-null  uint8  \n",
      " 9   preferred_genre_drama                          137730 non-null  uint8  \n",
      " 10  preferred_genre_international                  137730 non-null  uint8  \n",
      " 11  preferred_genre_other                          137730 non-null  uint8  \n",
      " 12  preferred_genre_regional                       137730 non-null  uint8  \n",
      " 13  intended_use_education                         137730 non-null  uint8  \n",
      " 14  intended_use_expand international access       137730 non-null  uint8  \n",
      " 15  intended_use_expand regional access            137730 non-null  uint8  \n",
      " 16  intended_use_other                             137730 non-null  uint8  \n",
      " 17  intended_use_replace OTT                       137730 non-null  uint8  \n",
      " 18  intended_use_supplement OTT                    137730 non-null  uint8  \n",
      " 19  male_TF_True                                   137730 non-null  uint8  \n",
      " 20  attribution_technical_appstore                 137730 non-null  uint8  \n",
      " 21  attribution_technical_bing                     137730 non-null  uint8  \n",
      " 22  attribution_technical_bing_organic             137730 non-null  uint8  \n",
      " 23  attribution_technical_brand sem intent bing    137730 non-null  uint8  \n",
      " 24  attribution_technical_brand sem intent google  137730 non-null  uint8  \n",
      " 25  attribution_technical_content_greatist         137730 non-null  uint8  \n",
      " 26  attribution_technical_criteo                   137730 non-null  uint8  \n",
      " 27  attribution_technical_direct_mail              137730 non-null  uint8  \n",
      " 28  attribution_technical_discovery                137730 non-null  uint8  \n",
      " 29  attribution_technical_display                  137730 non-null  uint8  \n",
      " 30  attribution_technical_email                    137730 non-null  uint8  \n",
      " 31  attribution_technical_email_blast              137730 non-null  uint8  \n",
      " 32  attribution_technical_facebook                 137730 non-null  uint8  \n",
      " 33  attribution_technical_facebook_organic         137730 non-null  uint8  \n",
      " 34  attribution_technical_google_organic           137730 non-null  uint8  \n",
      " 35  attribution_technical_influencer               137730 non-null  uint8  \n",
      " 36  attribution_technical_internal                 137730 non-null  uint8  \n",
      " 37  attribution_technical_organic                  137730 non-null  uint8  \n",
      " 38  attribution_technical_other                    137730 non-null  uint8  \n",
      " 39  attribution_technical_ott                      137730 non-null  uint8  \n",
      " 40  attribution_technical_pinterest                137730 non-null  uint8  \n",
      " 41  attribution_technical_pinterest_organic        137730 non-null  uint8  \n",
      " 42  attribution_technical_playstore                137730 non-null  uint8  \n",
      " 43  attribution_technical_podcast                  137730 non-null  uint8  \n",
      " 44  attribution_technical_quora                    137730 non-null  uint8  \n",
      " 45  attribution_technical_referral                 137730 non-null  uint8  \n",
      " 46  attribution_technical_samsung                  137730 non-null  uint8  \n",
      " 47  attribution_technical_search                   137730 non-null  uint8  \n",
      " 48  attribution_technical_tv                       137730 non-null  uint8  \n",
      " 49  attribution_technical_vod                      137730 non-null  uint8  \n",
      " 50  attribution_technical_youtube                  137730 non-null  uint8  \n",
      " 51  attribution_survey_amfm_radio                  137730 non-null  uint8  \n",
      " 52  attribution_survey_direct_mail                 137730 non-null  uint8  \n",
      " 53  attribution_survey_facebook                    137730 non-null  uint8  \n",
      " 54  attribution_survey_facebook_organic            137730 non-null  uint8  \n",
      " 55  attribution_survey_other                       137730 non-null  uint8  \n",
      " 56  attribution_survey_ott                         137730 non-null  uint8  \n",
      " 57  attribution_survey_pinterest                   137730 non-null  uint8  \n",
      " 58  attribution_survey_podcast                     137730 non-null  uint8  \n",
      " 59  attribution_survey_public_radio                137730 non-null  uint8  \n",
      " 60  attribution_survey_referral                    137730 non-null  uint8  \n",
      " 61  attribution_survey_search                      137730 non-null  uint8  \n",
      " 62  attribution_survey_sirius xm                   137730 non-null  uint8  \n",
      " 63  attribution_survey_social_organic              137730 non-null  uint8  \n",
      " 64  attribution_survey_tv                          137730 non-null  uint8  \n",
      " 65  attribution_survey_youtube                     137730 non-null  uint8  \n",
      " 66  op_sys_iOS                                     137730 non-null  uint8  \n",
      "dtypes: bool(1), float64(4), int32(1), int64(1), uint8(60)\n",
      "memory usage: 14.8 MB\n"
     ]
    }
   ],
   "source": [
    "train_dummy.info()"
   ]
  },
  {
   "cell_type": "code",
   "execution_count": 91,
   "metadata": {},
   "outputs": [],
   "source": [
    "corr = train_dummy.corr(method='pearson')"
   ]
  },
  {
   "cell_type": "code",
   "execution_count": 92,
   "metadata": {},
   "outputs": [
    {
     "data": {
      "text/plain": [
       "<matplotlib.axes._subplots.AxesSubplot at 0x1493b468fa0>"
      ]
     },
     "execution_count": 92,
     "metadata": {},
     "output_type": "execute_result"
    },
    {
     "data": {
      "image/png": "[encoded data removed]",
      "text/plain": [
       "<Figure size 1100x900 with 2 Axes>"
      ]
     },
     "metadata": {
      "needs_background": "light"
     },
     "output_type": "display_data"
    }
   ],
   "source": [
    "import seaborn as sns\n",
    "plt.figure(figsize=(11, 9),dpi=100)\n",
    "sns.heatmap(data=corr,vmax=0.3)"
   ]
  },
  {
   "cell_type": "code",
   "execution_count": 93,
   "metadata": {},
   "outputs": [
    {
     "name": "stdout",
     "output_type": "stream",
     "text": [
      "<class 'pandas.core.frame.DataFrame'>\n",
      "(137730, 66)\n"
     ]
    }
   ],
   "source": [
    "feature_x = [tag for tag in train_dummy.columns if tag not in ['churn']]\n",
    "X = train_dummy[feature_x]\n",
    "print(type(X))\n",
    "print (X.shape)"
   ]
  },
  {
   "cell_type": "code",
   "execution_count": 94,
   "metadata": {},
   "outputs": [
    {
     "name": "stdout",
     "output_type": "stream",
     "text": [
      "<class 'pandas.core.series.Series'>\n",
      "(137730,)\n"
     ]
    }
   ],
   "source": [
    "y = train_dummy['churn']\n",
    "print (type(y))\n",
    "print (y.shape)"
   ]
  },
  {
   "cell_type": "code",
   "execution_count": 95,
   "metadata": {},
   "outputs": [
    {
     "name": "stdout",
     "output_type": "stream",
     "text": [
      "(41319, 66)\n",
      "(41319,)\n",
      "(96411, 66)\n",
      "(96411,)\n"
     ]
    }
   ],
   "source": [
    "X_train, X_test, y_train, y_test = train_test_split(X, y, test_size =0.7,random_state=2333)\n",
    "print (X_train.shape)\n",
    "print (y_train.shape)\n",
    "print (X_test.shape)\n",
    "print (y_test.shape)"
   ]
  },
  {
   "cell_type": "code",
   "execution_count": 158,
   "metadata": {},
   "outputs": [
    {
     "data": {
      "text/plain": [
       "LogisticRegression(max_iter=10000)"
      ]
     },
     "execution_count": 158,
     "metadata": {},
     "output_type": "execute_result"
    }
   ],
   "source": [
    "lg = LogisticRegression(max_iter=10000)\n",
    "lg.fit(X_train, y_train)"
   ]
  },
  {
   "cell_type": "code",
   "execution_count": 97,
   "metadata": {},
   "outputs": [],
   "source": [
    "y_pred = lg.predict(X_test)"
   ]
  },
  {
   "cell_type": "code",
   "execution_count": 98,
   "metadata": {},
   "outputs": [
    {
     "name": "stdout",
     "output_type": "stream",
     "text": [
      "Train r2 score:  0.8696967496793243\n",
      "Test r2 score:  0.8702533943222246\n"
     ]
    }
   ],
   "source": [
    "print('Train r2 score: ',lg.score(X_train, y_train))\n",
    "print('Test r2 score: ',lg.score(X_test, y_test))"
   ]
  },
  {
   "cell_type": "code",
   "execution_count": 99,
   "metadata": {},
   "outputs": [
    {
     "data": {
      "text/plain": [
       "0.8486265648494573"
      ]
     },
     "execution_count": 99,
     "metadata": {},
     "output_type": "execute_result"
    }
   ],
   "source": [
    "from sklearn.metrics import roc_auc_score\n",
    "roc_auc_score(y_test, y_pred)"
   ]
  },
  {
   "cell_type": "code",
   "execution_count": 100,
   "metadata": {},
   "outputs": [],
   "source": [
    "from sklearn.metrics import roc_curve\n",
    "fpr, tpr, thersholds = roc_curve(y_test, y_pred, pos_label=1)"
   ]
  },
  {
   "cell_type": "code",
   "execution_count": 101,
   "metadata": {},
   "outputs": [
    {
     "data": {
      "image/png": "[encoded data removed]",
      "text/plain": [
       "<Figure size 432x288 with 1 Axes>"
      ]
     },
     "metadata": {
      "needs_background": "light"
     },
     "output_type": "display_data"
    }
   ],
   "source": [
    "plt.plot(fpr,tpr,marker = 'o')\n",
    "\n",
    "plt.show()"
   ]
  },
  {
   "cell_type": "code",
   "execution_count": 127,
   "metadata": {},
   "outputs": [
    {
     "name": "stdout",
     "output_type": "stream",
     "text": [
      "[[58405  5391]\n",
      " [ 7118 25497]]\n"
     ]
    }
   ],
   "source": [
    "from sklearn.metrics import confusion_matrix\n",
    "C = confusion_matrix(y_test, y_pred)\n",
    "print(C)"
   ]
  },
  {
   "cell_type": "code",
   "execution_count": 128,
   "metadata": {},
   "outputs": [
    {
     "data": {
      "text/plain": [
       "Text(30.5, 0.5, 'true')"
      ]
     },
     "execution_count": 128,
     "metadata": {},
     "output_type": "execute_result"
    },
    {
     "data": {
      "image/png": "[encoded data removed]",
      "text/plain": [
       "<Figure size 432x288 with 2 Axes>"
      ]
     },
     "metadata": {},
     "output_type": "display_data"
    }
   ],
   "source": [
    "sns.set()\n",
    "f,ax=plt.subplots()\n",
    "sns.heatmap(C,annot=True,ax=ax)\n",
    "ax.set_title('confusion matrix')\n",
    "ax.set_xlabel('predict') \n",
    "ax.set_ylabel('true') "
   ]
  },
  {
   "cell_type": "code",
   "execution_count": 160,
   "metadata": {},
   "outputs": [],
   "source": [
    "coefficients = list(lg.coef_[0])"
   ]
  },
  {
   "cell_type": "code",
   "execution_count": 161,
   "metadata": {},
   "outputs": [],
   "source": [
    "coeff = pd.DataFrame({'features':list(X.columns),'Coefficients':coefficients})"
   ]
  },
  {
   "cell_type": "code",
   "execution_count": 165,
   "metadata": {},
   "outputs": [
    {
     "data": {
      "text/html": [
       "<div>\n",
       "<style scoped>\n",
       "    .dataframe tbody tr th:only-of-type {\n",
       "        vertical-align: middle;\n",
       "    }\n",
       "\n",
       "    .dataframe tbody tr th {\n",
       "        vertical-align: top;\n",
       "    }\n",
       "\n",
       "    .dataframe thead th {\n",
       "        text-align: right;\n",
       "    }\n",
       "</style>\n",
       "<table border=\"1\" class=\"dataframe\">\n",
       "  <thead>\n",
       "    <tr style=\"text-align: right;\">\n",
       "      <th></th>\n",
       "      <th>features</th>\n",
       "      <th>Coefficients</th>\n",
       "    </tr>\n",
       "  </thead>\n",
       "  <tbody>\n",
       "    <tr>\n",
       "      <th>59</th>\n",
       "      <td>attribution_survey_referral</td>\n",
       "      <td>-2.944006</td>\n",
       "    </tr>\n",
       "    <tr>\n",
       "      <th>0</th>\n",
       "      <td>num_weekly_services_utilized</td>\n",
       "      <td>-2.396194</td>\n",
       "    </tr>\n",
       "    <tr>\n",
       "      <th>7</th>\n",
       "      <td>package_type_enhanced</td>\n",
       "      <td>-1.004013</td>\n",
       "    </tr>\n",
       "    <tr>\n",
       "      <th>51</th>\n",
       "      <td>attribution_survey_direct_mail</td>\n",
       "      <td>-0.336357</td>\n",
       "    </tr>\n",
       "    <tr>\n",
       "      <th>48</th>\n",
       "      <td>attribution_technical_vod</td>\n",
       "      <td>-0.320777</td>\n",
       "    </tr>\n",
       "  </tbody>\n",
       "</table>\n",
       "</div>"
      ],
      "text/plain": [
       "                          features  Coefficients\n",
       "59     attribution_survey_referral     -2.944006\n",
       "0     num_weekly_services_utilized     -2.396194\n",
       "7            package_type_enhanced     -1.004013\n",
       "51  attribution_survey_direct_mail     -0.336357\n",
       "48       attribution_technical_vod     -0.320777"
      ]
     },
     "execution_count": 165,
     "metadata": {},
     "output_type": "execute_result"
    }
   ],
   "source": [
    "coeff.sort_values(by = 'Coefficients').head()"
   ]
  },
  {
   "cell_type": "code",
   "execution_count": 166,
   "metadata": {},
   "outputs": [
    {
     "data": {
      "text/html": [
       "<div>\n",
       "<style scoped>\n",
       "    .dataframe tbody tr th:only-of-type {\n",
       "        vertical-align: middle;\n",
       "    }\n",
       "\n",
       "    .dataframe tbody tr th {\n",
       "        vertical-align: top;\n",
       "    }\n",
       "\n",
       "    .dataframe thead th {\n",
       "        text-align: right;\n",
       "    }\n",
       "</style>\n",
       "<table border=\"1\" class=\"dataframe\">\n",
       "  <thead>\n",
       "    <tr style=\"text-align: right;\">\n",
       "      <th></th>\n",
       "      <th>features</th>\n",
       "      <th>Coefficients</th>\n",
       "    </tr>\n",
       "  </thead>\n",
       "  <tbody>\n",
       "    <tr>\n",
       "      <th>8</th>\n",
       "      <td>preferred_genre_drama</td>\n",
       "      <td>2.445219</td>\n",
       "    </tr>\n",
       "    <tr>\n",
       "      <th>9</th>\n",
       "      <td>preferred_genre_international</td>\n",
       "      <td>2.489891</td>\n",
       "    </tr>\n",
       "    <tr>\n",
       "      <th>63</th>\n",
       "      <td>attribution_survey_tv</td>\n",
       "      <td>2.907912</td>\n",
       "    </tr>\n",
       "    <tr>\n",
       "      <th>16</th>\n",
       "      <td>intended_use_replace OTT</td>\n",
       "      <td>3.942786</td>\n",
       "    </tr>\n",
       "    <tr>\n",
       "      <th>10</th>\n",
       "      <td>preferred_genre_other</td>\n",
       "      <td>4.398323</td>\n",
       "    </tr>\n",
       "  </tbody>\n",
       "</table>\n",
       "</div>"
      ],
      "text/plain": [
       "                         features  Coefficients\n",
       "8           preferred_genre_drama      2.445219\n",
       "9   preferred_genre_international      2.489891\n",
       "63          attribution_survey_tv      2.907912\n",
       "16       intended_use_replace OTT      3.942786\n",
       "10          preferred_genre_other      4.398323"
      ]
     },
     "execution_count": 166,
     "metadata": {},
     "output_type": "execute_result"
    }
   ],
   "source": [
    "coeff.sort_values(by = 'Coefficients').tail()"
   ]
  },
  {
   "cell_type": "code",
   "execution_count": 167,
   "metadata": {},
   "outputs": [],
   "source": [
    "train_dummy.to_csv(\"data_train.csv\")"
   ]
  },
  {
   "cell_type": "code",
   "execution_count": 121,
   "metadata": {},
   "outputs": [],
   "source": [
    "data_train['churn_pred'] = lg.predict(X)"
   ]
  },
  {
   "cell_type": "code",
   "execution_count": 169,
   "metadata": {},
   "outputs": [],
   "source": [
    "data_train['churn_prob'] = ''\n",
    "data_train['churn_prob'] = lg.predict_proba(X)"
   ]
  },
  {
   "cell_type": "code",
   "execution_count": 170,
   "metadata": {},
   "outputs": [
    {
     "data": {
      "text/html": [
       "<div>\n",
       "<style scoped>\n",
       "    .dataframe tbody tr th:only-of-type {\n",
       "        vertical-align: middle;\n",
       "    }\n",
       "\n",
       "    .dataframe tbody tr th {\n",
       "        vertical-align: top;\n",
       "    }\n",
       "\n",
       "    .dataframe thead th {\n",
       "        text-align: right;\n",
       "    }\n",
       "</style>\n",
       "<table border=\"1\" class=\"dataframe\">\n",
       "  <thead>\n",
       "    <tr style=\"text-align: right;\">\n",
       "      <th></th>\n",
       "      <th>package_type</th>\n",
       "      <th>num_weekly_services_utilized</th>\n",
       "      <th>preferred_genre</th>\n",
       "      <th>intended_use</th>\n",
       "      <th>weekly_consumption_hour</th>\n",
       "      <th>num_ideal_streaming_services</th>\n",
       "      <th>male_TF</th>\n",
       "      <th>attribution_technical</th>\n",
       "      <th>attribution_survey</th>\n",
       "      <th>op_sys</th>\n",
       "      <th>initial_credit_card_declined</th>\n",
       "      <th>join_fee</th>\n",
       "      <th>age_corrected</th>\n",
       "      <th>churn</th>\n",
       "      <th>churn_pred</th>\n",
       "      <th>churn_prob</th>\n",
       "    </tr>\n",
       "  </thead>\n",
       "  <tbody>\n",
       "    <tr>\n",
       "      <th>4</th>\n",
       "      <td>base</td>\n",
       "      <td>4.0</td>\n",
       "      <td>comedy</td>\n",
       "      <td>replace OTT</td>\n",
       "      <td>22.951579</td>\n",
       "      <td>3.0</td>\n",
       "      <td>False</td>\n",
       "      <td>discovery</td>\n",
       "      <td>youtube</td>\n",
       "      <td>iOS</td>\n",
       "      <td>False</td>\n",
       "      <td>0.0367</td>\n",
       "      <td>28</td>\n",
       "      <td>0</td>\n",
       "      <td>0</td>\n",
       "      <td>0.989522</td>\n",
       "    </tr>\n",
       "    <tr>\n",
       "      <th>6</th>\n",
       "      <td>base</td>\n",
       "      <td>2.0</td>\n",
       "      <td>comedy</td>\n",
       "      <td>access to exclusive content</td>\n",
       "      <td>20.051667</td>\n",
       "      <td>2.0</td>\n",
       "      <td>False</td>\n",
       "      <td>bing</td>\n",
       "      <td>search</td>\n",
       "      <td>Android</td>\n",
       "      <td>False</td>\n",
       "      <td>0.3303</td>\n",
       "      <td>61</td>\n",
       "      <td>0</td>\n",
       "      <td>0</td>\n",
       "      <td>0.768742</td>\n",
       "    </tr>\n",
       "    <tr>\n",
       "      <th>7</th>\n",
       "      <td>base</td>\n",
       "      <td>3.0</td>\n",
       "      <td>drama</td>\n",
       "      <td>access to exclusive content</td>\n",
       "      <td>34.551230</td>\n",
       "      <td>2.0</td>\n",
       "      <td>False</td>\n",
       "      <td>email</td>\n",
       "      <td>referral</td>\n",
       "      <td>iOS</td>\n",
       "      <td>False</td>\n",
       "      <td>0.0000</td>\n",
       "      <td>23</td>\n",
       "      <td>0</td>\n",
       "      <td>0</td>\n",
       "      <td>0.999693</td>\n",
       "    </tr>\n",
       "    <tr>\n",
       "      <th>8</th>\n",
       "      <td>base</td>\n",
       "      <td>3.0</td>\n",
       "      <td>comedy</td>\n",
       "      <td>access to exclusive content</td>\n",
       "      <td>25.851492</td>\n",
       "      <td>2.0</td>\n",
       "      <td>False</td>\n",
       "      <td>facebook</td>\n",
       "      <td>facebook</td>\n",
       "      <td>iOS</td>\n",
       "      <td>False</td>\n",
       "      <td>0.6606</td>\n",
       "      <td>73</td>\n",
       "      <td>0</td>\n",
       "      <td>0</td>\n",
       "      <td>0.784779</td>\n",
       "    </tr>\n",
       "    <tr>\n",
       "      <th>11</th>\n",
       "      <td>enhanced</td>\n",
       "      <td>3.0</td>\n",
       "      <td>comedy</td>\n",
       "      <td>access to exclusive content</td>\n",
       "      <td>37.451142</td>\n",
       "      <td>2.0</td>\n",
       "      <td>True</td>\n",
       "      <td>search</td>\n",
       "      <td>search</td>\n",
       "      <td>iOS</td>\n",
       "      <td>False</td>\n",
       "      <td>0.3303</td>\n",
       "      <td>24</td>\n",
       "      <td>0</td>\n",
       "      <td>0</td>\n",
       "      <td>0.999124</td>\n",
       "    </tr>\n",
       "    <tr>\n",
       "      <th>...</th>\n",
       "      <td>...</td>\n",
       "      <td>...</td>\n",
       "      <td>...</td>\n",
       "      <td>...</td>\n",
       "      <td>...</td>\n",
       "      <td>...</td>\n",
       "      <td>...</td>\n",
       "      <td>...</td>\n",
       "      <td>...</td>\n",
       "      <td>...</td>\n",
       "      <td>...</td>\n",
       "      <td>...</td>\n",
       "      <td>...</td>\n",
       "      <td>...</td>\n",
       "      <td>...</td>\n",
       "      <td>...</td>\n",
       "    </tr>\n",
       "    <tr>\n",
       "      <th>227593</th>\n",
       "      <td>base</td>\n",
       "      <td>3.0</td>\n",
       "      <td>comedy</td>\n",
       "      <td>replace OTT</td>\n",
       "      <td>25.851492</td>\n",
       "      <td>2.0</td>\n",
       "      <td>False</td>\n",
       "      <td>organic</td>\n",
       "      <td>facebook</td>\n",
       "      <td>iOS</td>\n",
       "      <td>False</td>\n",
       "      <td>0.0367</td>\n",
       "      <td>45</td>\n",
       "      <td>1</td>\n",
       "      <td>1</td>\n",
       "      <td>0.337453</td>\n",
       "    </tr>\n",
       "    <tr>\n",
       "      <th>227598</th>\n",
       "      <td>enhanced</td>\n",
       "      <td>2.0</td>\n",
       "      <td>comedy</td>\n",
       "      <td>access to exclusive content</td>\n",
       "      <td>28.751405</td>\n",
       "      <td>2.0</td>\n",
       "      <td>False</td>\n",
       "      <td>facebook</td>\n",
       "      <td>facebook</td>\n",
       "      <td>iOS</td>\n",
       "      <td>False</td>\n",
       "      <td>0.0367</td>\n",
       "      <td>55</td>\n",
       "      <td>1</td>\n",
       "      <td>0</td>\n",
       "      <td>0.811802</td>\n",
       "    </tr>\n",
       "    <tr>\n",
       "      <th>227604</th>\n",
       "      <td>base</td>\n",
       "      <td>3.0</td>\n",
       "      <td>regional</td>\n",
       "      <td>replace OTT</td>\n",
       "      <td>25.851492</td>\n",
       "      <td>2.0</td>\n",
       "      <td>False</td>\n",
       "      <td>facebook</td>\n",
       "      <td>facebook</td>\n",
       "      <td>iOS</td>\n",
       "      <td>False</td>\n",
       "      <td>0.1101</td>\n",
       "      <td>36</td>\n",
       "      <td>1</td>\n",
       "      <td>1</td>\n",
       "      <td>0.083049</td>\n",
       "    </tr>\n",
       "    <tr>\n",
       "      <th>227613</th>\n",
       "      <td>base</td>\n",
       "      <td>3.0</td>\n",
       "      <td>comedy</td>\n",
       "      <td>replace OTT</td>\n",
       "      <td>21.501623</td>\n",
       "      <td>2.0</td>\n",
       "      <td>False</td>\n",
       "      <td>facebook</td>\n",
       "      <td>facebook</td>\n",
       "      <td>Android</td>\n",
       "      <td>False</td>\n",
       "      <td>0.0367</td>\n",
       "      <td>45</td>\n",
       "      <td>1</td>\n",
       "      <td>1</td>\n",
       "      <td>0.271158</td>\n",
       "    </tr>\n",
       "    <tr>\n",
       "      <th>227614</th>\n",
       "      <td>enhanced</td>\n",
       "      <td>2.0</td>\n",
       "      <td>comedy</td>\n",
       "      <td>replace OTT</td>\n",
       "      <td>30.201361</td>\n",
       "      <td>2.0</td>\n",
       "      <td>False</td>\n",
       "      <td>facebook</td>\n",
       "      <td>facebook</td>\n",
       "      <td>iOS</td>\n",
       "      <td>False</td>\n",
       "      <td>0.0367</td>\n",
       "      <td>52</td>\n",
       "      <td>1</td>\n",
       "      <td>1</td>\n",
       "      <td>0.106194</td>\n",
       "    </tr>\n",
       "  </tbody>\n",
       "</table>\n",
       "<p>137730 rows × 16 columns</p>\n",
       "</div>"
      ],
      "text/plain": [
       "       package_type  num_weekly_services_utilized preferred_genre  \\\n",
       "4              base                           4.0          comedy   \n",
       "6              base                           2.0          comedy   \n",
       "7              base                           3.0           drama   \n",
       "8              base                           3.0          comedy   \n",
       "11         enhanced                           3.0          comedy   \n",
       "...             ...                           ...             ...   \n",
       "227593         base                           3.0          comedy   \n",
       "227598     enhanced                           2.0          comedy   \n",
       "227604         base                           3.0        regional   \n",
       "227613         base                           3.0          comedy   \n",
       "227614     enhanced                           2.0          comedy   \n",
       "\n",
       "                       intended_use  weekly_consumption_hour  \\\n",
       "4                       replace OTT                22.951579   \n",
       "6       access to exclusive content                20.051667   \n",
       "7       access to exclusive content                34.551230   \n",
       "8       access to exclusive content                25.851492   \n",
       "11      access to exclusive content                37.451142   \n",
       "...                             ...                      ...   \n",
       "227593                  replace OTT                25.851492   \n",
       "227598  access to exclusive content                28.751405   \n",
       "227604                  replace OTT                25.851492   \n",
       "227613                  replace OTT                21.501623   \n",
       "227614                  replace OTT                30.201361   \n",
       "\n",
       "        num_ideal_streaming_services male_TF attribution_technical  \\\n",
       "4                                3.0   False             discovery   \n",
       "6                                2.0   False                  bing   \n",
       "7                                2.0   False                 email   \n",
       "8                                2.0   False              facebook   \n",
       "11                               2.0    True                search   \n",
       "...                              ...     ...                   ...   \n",
       "227593                           2.0   False               organic   \n",
       "227598                           2.0   False              facebook   \n",
       "227604                           2.0   False              facebook   \n",
       "227613                           2.0   False              facebook   \n",
       "227614                           2.0   False              facebook   \n",
       "\n",
       "       attribution_survey   op_sys  initial_credit_card_declined  join_fee  \\\n",
       "4                 youtube      iOS                         False    0.0367   \n",
       "6                  search  Android                         False    0.3303   \n",
       "7                referral      iOS                         False    0.0000   \n",
       "8                facebook      iOS                         False    0.6606   \n",
       "11                 search      iOS                         False    0.3303   \n",
       "...                   ...      ...                           ...       ...   \n",
       "227593           facebook      iOS                         False    0.0367   \n",
       "227598           facebook      iOS                         False    0.0367   \n",
       "227604           facebook      iOS                         False    0.1101   \n",
       "227613           facebook  Android                         False    0.0367   \n",
       "227614           facebook      iOS                         False    0.0367   \n",
       "\n",
       "        age_corrected  churn  churn_pred  churn_prob  \n",
       "4                  28      0           0    0.989522  \n",
       "6                  61      0           0    0.768742  \n",
       "7                  23      0           0    0.999693  \n",
       "8                  73      0           0    0.784779  \n",
       "11                 24      0           0    0.999124  \n",
       "...               ...    ...         ...         ...  \n",
       "227593             45      1           1    0.337453  \n",
       "227598             55      1           0    0.811802  \n",
       "227604             36      1           1    0.083049  \n",
       "227613             45      1           1    0.271158  \n",
       "227614             52      1           1    0.106194  \n",
       "\n",
       "[137730 rows x 16 columns]"
      ]
     },
     "execution_count": 170,
     "metadata": {},
     "output_type": "execute_result"
    }
   ],
   "source": [
    "data_train"
   ]
  },
  {
   "cell_type": "code",
   "execution_count": 171,
   "metadata": {},
   "outputs": [],
   "source": [
    "data_train.to_csv('data_train.csv')"
   ]
  },
  {
   "cell_type": "code",
   "execution_count": null,
   "metadata": {},
   "outputs": [],
   "source": []
  }
 ],
 "metadata": {
  "kernelspec": {
   "display_name": "Python 3",
   "language": "python",
   "name": "python3"
  },
  "language_info": {
   "codemirror_mode": {
    "name": "ipython",
    "version": 3
   },
   "file_extension": ".py",
   "mimetype": "text/x-python",
   "name": "python",
   "nbconvert_exporter": "python",
   "pygments_lexer": "ipython3",
   "version": "3.8.3"
  }
 },
 "nbformat": 4,
 "nbformat_minor": 4
}
